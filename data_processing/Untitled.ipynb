{
 "cells": [
  {
   "cell_type": "code",
   "execution_count": 2,
   "metadata": {},
   "outputs": [
    {
     "name": "stdout",
     "output_type": "stream",
     "text": [
      "    teams  nums\n",
      "0     Web    12\n",
      "1  Mobile    14\n",
      "2    Date    34\n"
     ]
    }
   ],
   "source": [
    "import pandas as pd\n",
    "import numpy as np\n",
    "\n",
    "teams = ['Web', 'Mobile', 'Date']\n",
    "nums = [12, 14, 34]\n",
    "rd_team_dict = {\n",
    "    'teams' : teams,\n",
    "    'nums' : nums\n",
    "}\n",
    "rd_team_df = pd.DataFrame(rd_team_dict)\n",
    "\n",
    "print(rd_team_df)"
   ]
  },
  {
   "cell_type": "code",
   "execution_count": 9,
   "metadata": {},
   "outputs": [
    {
     "name": "stdout",
     "output_type": "stream",
     "text": [
      "                   A         B         C         D\n",
      "2019-03-29  1.709829  1.551278 -0.071941 -0.791401\n",
      "2019-03-30  0.182895  0.251472  1.508316  0.425219\n",
      "2019-03-31 -1.418231 -0.017289 -1.469808 -0.457050\n",
      "2019-04-01 -0.449663  0.097040 -0.794744  0.961978\n",
      "2019-04-02 -0.142128  1.499001  1.317313 -0.996074\n",
      "2019-04-03 -1.214653 -0.966960 -0.211115 -1.205291\n",
      "(6, 4)\n",
      "              A         B         C         D\n",
      "count  6.000000  6.000000  6.000000  6.000000\n",
      "mean  -0.221992  0.402424  0.046337 -0.343770\n",
      "std    1.128755  0.968480  1.169542  0.857584\n",
      "min   -1.418231 -0.966960 -1.469808 -1.205291\n",
      "25%   -1.023406  0.011293 -0.648837 -0.944906\n",
      "50%   -0.295895  0.174256 -0.141528 -0.624225\n",
      "75%    0.101639  1.187118  0.969999  0.204652\n",
      "max    1.709829  1.551278  1.508316  0.961978\n",
      "                   A         B         C         D\n",
      "2019-03-29  1.709829  1.551278 -0.071941 -0.791401\n",
      "2019-03-30  0.182895  0.251472  1.508316  0.425219\n",
      "                   A         B         C         D\n",
      "2019-04-02 -0.142128  1.499001  1.317313 -0.996074\n",
      "2019-04-03 -1.214653 -0.966960 -0.211115 -1.205291\n",
      "   2019-03-29  2019-03-30  2019-03-31  2019-04-01  2019-04-02  2019-04-03\n",
      "A    1.709829    0.182895   -1.418231   -0.449663   -0.142128   -1.214653\n",
      "B    1.551278    0.251472   -0.017289    0.097040    1.499001   -0.966960\n",
      "C   -0.071941    1.508316   -1.469808   -0.794744    1.317313   -0.211115\n",
      "D   -0.791401    0.425219   -0.457050    0.961978   -0.996074   -1.205291\n",
      "                   A         B         C         D\n",
      "2019-04-03 -1.214653 -0.966960 -0.211115 -1.205291\n",
      "2019-04-02 -0.142128  1.499001  1.317313 -0.996074\n",
      "2019-03-29  1.709829  1.551278 -0.071941 -0.791401\n",
      "2019-03-31 -1.418231 -0.017289 -1.469808 -0.457050\n",
      "2019-03-30  0.182895  0.251472  1.508316  0.425219\n",
      "2019-04-01 -0.449663  0.097040 -0.794744  0.961978\n"
     ]
    }
   ],
   "source": [
    "dates = pd.date_range('20190329', periods = 6)\n",
    "df0 = pd.DataFrame(np.random.randn(6,4), index=dates, columns=list('ABCD'))\n",
    "print(df0)\n",
    "print(df0.shape)\n",
    "print(df0.describe())\n",
    "print(df0.head(2))\n",
    "print(df0.tail(2))\n",
    "print(df0.T)\n",
    "print(df0.sort_values(by='D'))"
   ]
  },
  {
   "cell_type": "code",
   "execution_count": 10,
   "metadata": {},
   "outputs": [
    {
     "data": {
      "text/plain": [
       "<matplotlib.axes._subplots.AxesSubplot at 0x1b34cda2c88>"
      ]
     },
     "execution_count": 10,
     "metadata": {},
     "output_type": "execute_result"
    }
   ],
   "source": [
    "ts = pd.Series(np.random.randn(1000), index=pd.date_range('1/1/2000', periods=1000))\n",
    "ts = ts.cumsum()\n",
    "ts.plot()"
   ]
  },
  {
   "cell_type": "code",
   "execution_count": null,
   "metadata": {},
   "outputs": [],
   "source": []
  }
 ],
 "metadata": {
  "kernelspec": {
   "display_name": "Python 3",
   "language": "python",
   "name": "python3"
  },
  "language_info": {
   "codemirror_mode": {
    "name": "ipython",
    "version": 3
   },
   "file_extension": ".py",
   "mimetype": "text/x-python",
   "name": "python",
   "nbconvert_exporter": "python",
   "pygments_lexer": "ipython3",
   "version": "3.7.1"
  }
 },
 "nbformat": 4,
 "nbformat_minor": 2
}
