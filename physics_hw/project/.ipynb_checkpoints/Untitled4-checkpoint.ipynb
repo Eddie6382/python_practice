{
 "cells": [
  {
   "cell_type": "code",
   "execution_count": null,
   "metadata": {},
   "outputs": [
    {
     "data": {
      "application/javascript": [
       "require.undef(\"nbextensions/vpython_libraries/glow.min\");"
      ],
      "text/plain": [
       "<IPython.core.display.Javascript object>"
      ]
     },
     "metadata": {},
     "output_type": "display_data"
    },
    {
     "data": {
      "application/javascript": [
       "require.undef(\"nbextensions/vpython_libraries/glowcomm\");"
      ],
      "text/plain": [
       "<IPython.core.display.Javascript object>"
      ]
     },
     "metadata": {},
     "output_type": "display_data"
    },
    {
     "data": {
      "application/javascript": [
       "require.undef(\"nbextensions/vpython_libraries/jquery-ui.custom.min\");"
      ],
      "text/plain": [
       "<IPython.core.display.Javascript object>"
      ]
     },
     "metadata": {},
     "output_type": "display_data"
    },
    {
     "data": {
      "application/javascript": [
       "require([\"nbextensions/vpython_libraries/glow.min\"], function(){console.log(\"GLOW LOADED\");})"
      ],
      "text/plain": [
       "<IPython.core.display.Javascript object>"
      ]
     },
     "metadata": {},
     "output_type": "display_data"
    },
    {
     "data": {
      "application/javascript": [
       "require([\"nbextensions/vpython_libraries/glowcomm\"], function(){console.log(\"GLOWCOMM LOADED\");})"
      ],
      "text/plain": [
       "<IPython.core.display.Javascript object>"
      ]
     },
     "metadata": {},
     "output_type": "display_data"
    },
    {
     "data": {
      "application/javascript": [
       "require([\"nbextensions/vpython_libraries/jquery-ui.custom.min\"], function(){console.log(\"JQUERY LOADED\");})"
      ],
      "text/plain": [
       "<IPython.core.display.Javascript object>"
      ]
     },
     "metadata": {},
     "output_type": "display_data"
    },
    {
     "data": {
      "text/html": [
       "<div id=\"glowscript\" class=\"glowscript\"></div>"
      ],
      "text/plain": [
       "<IPython.core.display.HTML object>"
      ]
     },
     "metadata": {},
     "output_type": "display_data"
    },
    {
     "data": {
      "application/javascript": [
       "window.__context = { glowscript_container: $(\"#glowscript\").removeAttr(\"id\")}"
      ],
      "text/plain": [
       "<IPython.core.display.Javascript object>"
      ]
     },
     "metadata": {},
     "output_type": "display_data"
    },
    {
     "data": {
      "text/html": [
       "<div id=\"glowscript\" class=\"glowscript\"></div>"
      ],
      "text/plain": [
       "<IPython.core.display.HTML object>"
      ]
     },
     "metadata": {},
     "output_type": "display_data"
    },
    {
     "data": {
      "application/javascript": [
       "window.__context = { glowscript_container: $(\"#glowscript\").removeAttr(\"id\")}"
      ],
      "text/plain": [
       "<IPython.core.display.Javascript object>"
      ]
     },
     "metadata": {},
     "output_type": "display_data"
    }
   ],
   "source": [
    "from vpython import *\n",
    "f = 600\n",
    "T = 1/600\n",
    "v0 = 340\n",
    "t = 0\n",
    "dt = 0.01\n",
    "r = 1000\n",
    "n = 0\n",
    "tt = 0\n",
    "v = 68\n",
    "waves = []\n",
    "reflect_wave = []\n",
    "reflect_wave2 = []\n",
    "scene = canvas(width=800, height=800, background=vector(0.5,0.5,0))\n",
    "source = sphere(radius = 10, make_trail = True,color = vec(10,0,0))\n",
    "source.pos = vec(-r,0,0)\n",
    "obj = sphere(radius = 10, make_trail = True,color = vec(0,0,10))\n",
    "obj.pos = vec(0,0,0)\n",
    "obj.v = vec(100,0,0)\n",
    "while n < 1000:\n",
    "    rate(100)\n",
    "    for wave in reflect_wave:\n",
    "        wave.radius += v0*dt\n",
    "        if wave.pos.x - wave.radius < source.pos.x and wave.count == 0:\n",
    "            wave.count == 1\n",
    "            reflect_wave.remove(wave)\n",
    "            n += 1\n",
    "    for wave in waves:\n",
    "        wave.radius += v0*dt\n",
    "        if wave.pos.x + wave.radius > obj.pos.x and wave.count == 0:\n",
    "            wave.count == 1\n",
    "            waves.remove(wave)\n",
    "            wavefront = ring(pos = obj.pos, axis = vec(0,0,1), thickness = 0.5, radius = 0)\n",
    "            wavefront.count = 0\n",
    "            reflect_wave.append(wavefront)\n",
    "    if tt >= T:\n",
    "        wavefront = ring(pos = source.pos, axis = vec(0,0,1), thickness = 0.5, radius = 0)\n",
    "        wavefront.count = 0\n",
    "        waves.append(wavefront)\n",
    "        tt -= T\n",
    "    t += dt\n",
    "    tt += dt\n",
    "    obj.pos += obj.v*dt"
   ]
  },
  {
   "cell_type": "code",
   "execution_count": null,
   "metadata": {},
   "outputs": [],
   "source": []
  }
 ],
 "metadata": {
  "kernelspec": {
   "display_name": "Python 3",
   "language": "python",
   "name": "python3"
  },
  "language_info": {
   "codemirror_mode": {
    "name": "ipython",
    "version": 3
   },
   "file_extension": ".py",
   "mimetype": "text/x-python",
   "name": "python",
   "nbconvert_exporter": "python",
   "pygments_lexer": "ipython3",
   "version": "3.6.5"
  }
 },
 "nbformat": 4,
 "nbformat_minor": 2
}
